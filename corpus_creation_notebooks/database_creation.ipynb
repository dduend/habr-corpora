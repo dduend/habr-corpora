{
  "nbformat": 4,
  "nbformat_minor": 0,
  "metadata": {
    "colab": {
      "provenance": []
    },
    "kernelspec": {
      "name": "python3",
      "display_name": "Python 3"
    },
    "language_info": {
      "name": "python"
    }
  },
  "cells": [
    {
      "cell_type": "code",
      "execution_count": 2,
      "metadata": {
        "colab": {
          "base_uri": "https://localhost:8080/"
        },
        "id": "Tt2bErnBRc1B",
        "outputId": "dbbbd5b7-7bbe-4813-de36-e5e5d17000d2"
      },
      "outputs": [
        {
          "output_type": "stream",
          "name": "stdout",
          "text": [
            "Requirement already satisfied: gdown in /usr/local/lib/python3.10/dist-packages (5.2.0)\n",
            "Requirement already satisfied: beautifulsoup4 in /usr/local/lib/python3.10/dist-packages (from gdown) (4.12.3)\n",
            "Requirement already satisfied: filelock in /usr/local/lib/python3.10/dist-packages (from gdown) (3.16.1)\n",
            "Requirement already satisfied: requests[socks] in /usr/local/lib/python3.10/dist-packages (from gdown) (2.32.3)\n",
            "Requirement already satisfied: tqdm in /usr/local/lib/python3.10/dist-packages (from gdown) (4.66.5)\n",
            "Requirement already satisfied: soupsieve>1.2 in /usr/local/lib/python3.10/dist-packages (from beautifulsoup4->gdown) (2.6)\n",
            "Requirement already satisfied: charset-normalizer<4,>=2 in /usr/local/lib/python3.10/dist-packages (from requests[socks]->gdown) (3.4.0)\n",
            "Requirement already satisfied: idna<4,>=2.5 in /usr/local/lib/python3.10/dist-packages (from requests[socks]->gdown) (3.10)\n",
            "Requirement already satisfied: urllib3<3,>=1.21.1 in /usr/local/lib/python3.10/dist-packages (from requests[socks]->gdown) (2.2.3)\n",
            "Requirement already satisfied: certifi>=2017.4.17 in /usr/local/lib/python3.10/dist-packages (from requests[socks]->gdown) (2024.8.30)\n",
            "Requirement already satisfied: PySocks!=1.5.7,>=1.5.6 in /usr/local/lib/python3.10/dist-packages (from requests[socks]->gdown) (1.7.1)\n"
          ]
        }
      ],
      "source": [
        "!pip install gdown"
      ]
    },
    {
      "cell_type": "code",
      "source": [
        "!pip install conllu"
      ],
      "metadata": {
        "colab": {
          "base_uri": "https://localhost:8080/"
        },
        "id": "B3_fDyxaP2LK",
        "outputId": "707f7d01-bc86-40bd-c7f2-03af80c410ed"
      },
      "execution_count": 3,
      "outputs": [
        {
          "output_type": "stream",
          "name": "stdout",
          "text": [
            "Collecting conllu\n",
            "  Downloading conllu-6.0.0-py3-none-any.whl.metadata (21 kB)\n",
            "Downloading conllu-6.0.0-py3-none-any.whl (16 kB)\n",
            "Installing collected packages: conllu\n",
            "Successfully installed conllu-6.0.0\n"
          ]
        }
      ]
    },
    {
      "cell_type": "code",
      "source": [
        "import os\n",
        "import gdown\n",
        "import zipfile\n",
        "import glob\n",
        "import sqlite3\n",
        "from conllu import parse\n",
        "import re\n",
        "import string"
      ],
      "metadata": {
        "id": "cMiFuE9sK0QI"
      },
      "execution_count": 4,
      "outputs": []
    },
    {
      "cell_type": "code",
      "source": [
        "# Создание реляционной базы данных SQLite\n",
        "conn = sqlite3.connect('habr_corpus.db')\n",
        "cur = conn.cursor()"
      ],
      "metadata": {
        "id": "LdELvFQKPeJY"
      },
      "execution_count": 5,
      "outputs": []
    },
    {
      "cell_type": "markdown",
      "source": [
        "Наша БД будет состоять из трёх таблиц:\n",
        "\n",
        "* articles: id статьи и метаинформация о ней (автор, заголовок, ссылка);\n",
        "\n",
        "* sentences: id предложения, сам текст предложения, а также внешний ключ (id статьи, в которой это предложение содержится), связывающий таблицу sentences с таблицей articles;\n",
        "\n",
        "* words: id слова, токен, лемма, часть речи, синтаксическая функция (отношение зависимости к главному слову), а также внешний ключ (id предложения, которому это слово принадлежит), связывающий таблицу words с таблицей sentences."
      ],
      "metadata": {
        "id": "lb4Omd-MVDsE"
      }
    },
    {
      "cell_type": "code",
      "source": [
        "# Создание таблиц\n",
        "cur.execute('''\n",
        "CREATE TABLE IF NOT EXISTS articles (\n",
        "    article_id INTEGER PRIMARY KEY AUTOINCREMENT,\n",
        "    author TEXT,\n",
        "    title TEXT,\n",
        "    link TEXT\n",
        ")\n",
        "''')\n",
        "\n",
        "cur.execute('''\n",
        "CREATE TABLE IF NOT EXISTS sentences (\n",
        "    sent_id INTEGER PRIMARY KEY AUTOINCREMENT,\n",
        "    sentence TEXT,\n",
        "    article_id INTEGER,\n",
        "    FOREIGN KEY(article_id) REFERENCES articles(article_id)\n",
        ")\n",
        "''')\n",
        "\n",
        "cur.execute('''\n",
        "CREATE TABLE IF NOT EXISTS words (\n",
        "    word_id INTEGER PRIMARY KEY AUTOINCREMENT,\n",
        "    token TEXT,\n",
        "    lemma TEXT,\n",
        "    pos TEXT,\n",
        "    deprel TEXT,\n",
        "    sent_id INTEGER,\n",
        "    FOREIGN KEY(sent_id) REFERENCES sentences(sent_id)\n",
        ")\n",
        "''')\n",
        "conn.commit()"
      ],
      "metadata": {
        "id": "O12p2xEkQZsP"
      },
      "execution_count": 6,
      "outputs": []
    },
    {
      "cell_type": "code",
      "source": [
        "url = 'https://drive.google.com/uc?id=1O38w8WUD-JPNHerPWNc5l69iZNtX4HTx'\n",
        "output = 'conllu.zip'\n",
        "\n",
        "# Скачивание zip-файла с .conllu-файлами\n",
        "gdown.download(url, output, quiet=False)\n",
        "\n",
        "# Распаковка zip-файла\n",
        "with zipfile.ZipFile(output, 'r') as zip_ref:\n",
        "    zip_ref.extractall('conllu')\n",
        "\n",
        "# Удаление zip-файла после распаковки\n",
        "os.remove(output)"
      ],
      "metadata": {
        "colab": {
          "base_uri": "https://localhost:8080/"
        },
        "id": "h7la25vjMak8",
        "outputId": "fe067d53-98f0-4b1c-fff2-8daae7504516"
      },
      "execution_count": 7,
      "outputs": [
        {
          "output_type": "stream",
          "name": "stderr",
          "text": [
            "Downloading...\n",
            "From (original): https://drive.google.com/uc?id=1O38w8WUD-JPNHerPWNc5l69iZNtX4HTx\n",
            "From (redirected): https://drive.google.com/uc?id=1O38w8WUD-JPNHerPWNc5l69iZNtX4HTx&confirm=t&uuid=bc1b661d-b92b-4638-a6c3-e7a8b2dc9ebf\n",
            "To: /content/conllu.zip\n",
            "100%|██████████| 41.3M/41.3M [00:00<00:00, 74.0MB/s]\n"
          ]
        }
      ]
    },
    {
      "cell_type": "code",
      "source": [
        "directory = \"/content/conllu/conllu\"\n",
        "\n",
        "article_id = 1\n",
        "sent_id = 1\n",
        "word_id = 1\n",
        "\n",
        "# Обработка каждого .conllu-файла и сохранение данных в таблицы\n",
        "for file in os.listdir(directory):\n",
        "  file_path = os.path.join(directory, file)\n",
        "  with open(file_path, 'r', encoding='utf-8') as f:\n",
        "    data = f.read()\n",
        "  sentences = parse(data)\n",
        "  metainfo = sentences[0].metadata['metadata']\n",
        "  pattern = r'автор: (.*), заголовок: (.*), ссылка: (.*)'\n",
        "  author = re.search(pattern, metainfo).group(1)\n",
        "  title = re.search(pattern, metainfo).group(2)\n",
        "  link = re.search(pattern, metainfo).group(3)\n",
        "  cur.execute(\"INSERT INTO articles VALUES (?,?,?,?)\", (article_id, author, title, link))\n",
        "  for sent in sentences:\n",
        "    sentence = sent.metadata['text']\n",
        "    cur.execute(\"INSERT INTO sentences VALUES (?,?,?)\", (sent_id, sentence, article_id))\n",
        "    for word in sent:\n",
        "      token = word['form'].lower().strip(string.punctuation)\n",
        "      pos = word['upos']\n",
        "      if pos != 'PUNCT' and pos != 'SYM' and pos != 'X' and not any(char.isdigit() for char in token):\n",
        "        lemma = word['lemma'].lower().strip(string.punctuation)\n",
        "        deprel = word['deprel']\n",
        "        cur.execute(\"INSERT INTO words VALUES (?,?,?,?,?,?)\", (word_id, token, lemma, pos, deprel, sent_id))\n",
        "        word_id += 1\n",
        "    sent_id += 1\n",
        "  article_id += 1\n",
        "conn.commit()"
      ],
      "metadata": {
        "id": "EWN65ii5Shno"
      },
      "execution_count": 8,
      "outputs": []
    },
    {
      "cell_type": "code",
      "source": [
        "# Создание индексов для повышения скорости и эффективности запросов к базе данных\n",
        "cur.executescript('''\n",
        "CREATE INDEX idx_token ON words(token);\n",
        "CREATE INDEX idx_lemma ON words(lemma);\n",
        "CREATE INDEX idx_pos ON words(pos);\n",
        "CREATE INDEX idx_deprel ON words(deprel);\n",
        "''')\n",
        "conn.commit()"
      ],
      "metadata": {
        "id": "b5YfcGCqYY0g"
      },
      "execution_count": 9,
      "outputs": []
    },
    {
      "cell_type": "code",
      "source": [
        "# Закрытие соединения\n",
        "conn.close()"
      ],
      "metadata": {
        "id": "LZDC2iZQYZkb"
      },
      "execution_count": 10,
      "outputs": []
    }
  ]
}